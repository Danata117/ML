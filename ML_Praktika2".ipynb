{
  "cells": [
    {
      "cell_type": "markdown",
      "metadata": {
        "id": "view-in-github",
        "colab_type": "text"
      },
      "source": [
        "<a href=\"https://colab.research.google.com/github/Danata117/ML/blob/main/ML_Praktika2%22.ipynb\" target=\"_parent\"><img src=\"https://colab.research.google.com/assets/colab-badge.svg\" alt=\"Open In Colab\"/></a>"
      ]
    },
    {
      "cell_type": "code",
      "execution_count": 59,
      "metadata": {
        "id": "o_fx2kEEzlJd",
        "colab": {
          "base_uri": "https://localhost:8080/"
        },
        "outputId": "015dc678-e5eb-4b9d-b37b-c20e0de198d1"
      },
      "outputs": [
        {
          "output_type": "stream",
          "name": "stdout",
          "text": [
            "Requirement already satisfied: pandas in /usr/local/lib/python3.12/dist-packages (2.2.2)\n",
            "Requirement already satisfied: seaborn in /usr/local/lib/python3.12/dist-packages (0.13.2)\n",
            "Requirement already satisfied: scikit-learn in /usr/local/lib/python3.12/dist-packages (1.6.1)\n",
            "Requirement already satisfied: numpy>=1.26.0 in /usr/local/lib/python3.12/dist-packages (from pandas) (2.0.2)\n",
            "Requirement already satisfied: python-dateutil>=2.8.2 in /usr/local/lib/python3.12/dist-packages (from pandas) (2.9.0.post0)\n",
            "Requirement already satisfied: pytz>=2020.1 in /usr/local/lib/python3.12/dist-packages (from pandas) (2025.2)\n",
            "Requirement already satisfied: tzdata>=2022.7 in /usr/local/lib/python3.12/dist-packages (from pandas) (2025.2)\n",
            "Requirement already satisfied: matplotlib!=3.6.1,>=3.4 in /usr/local/lib/python3.12/dist-packages (from seaborn) (3.10.0)\n",
            "Requirement already satisfied: scipy>=1.6.0 in /usr/local/lib/python3.12/dist-packages (from scikit-learn) (1.16.2)\n",
            "Requirement already satisfied: joblib>=1.2.0 in /usr/local/lib/python3.12/dist-packages (from scikit-learn) (1.5.2)\n",
            "Requirement already satisfied: threadpoolctl>=3.1.0 in /usr/local/lib/python3.12/dist-packages (from scikit-learn) (3.6.0)\n",
            "Requirement already satisfied: contourpy>=1.0.1 in /usr/local/lib/python3.12/dist-packages (from matplotlib!=3.6.1,>=3.4->seaborn) (1.3.3)\n",
            "Requirement already satisfied: cycler>=0.10 in /usr/local/lib/python3.12/dist-packages (from matplotlib!=3.6.1,>=3.4->seaborn) (0.12.1)\n",
            "Requirement already satisfied: fonttools>=4.22.0 in /usr/local/lib/python3.12/dist-packages (from matplotlib!=3.6.1,>=3.4->seaborn) (4.60.1)\n",
            "Requirement already satisfied: kiwisolver>=1.3.1 in /usr/local/lib/python3.12/dist-packages (from matplotlib!=3.6.1,>=3.4->seaborn) (1.4.9)\n",
            "Requirement already satisfied: packaging>=20.0 in /usr/local/lib/python3.12/dist-packages (from matplotlib!=3.6.1,>=3.4->seaborn) (25.0)\n",
            "Requirement already satisfied: pillow>=8 in /usr/local/lib/python3.12/dist-packages (from matplotlib!=3.6.1,>=3.4->seaborn) (11.3.0)\n",
            "Requirement already satisfied: pyparsing>=2.3.1 in /usr/local/lib/python3.12/dist-packages (from matplotlib!=3.6.1,>=3.4->seaborn) (3.2.5)\n",
            "Requirement already satisfied: six>=1.5 in /usr/local/lib/python3.12/dist-packages (from python-dateutil>=2.8.2->pandas) (1.17.0)\n",
            "Requirement already satisfied: pandas in /usr/local/lib/python3.12/dist-packages (2.2.2)\n",
            "Requirement already satisfied: matplotlib in /usr/local/lib/python3.12/dist-packages (3.10.0)\n",
            "Requirement already satisfied: seaborn in /usr/local/lib/python3.12/dist-packages (0.13.2)\n",
            "Requirement already satisfied: numpy>=1.26.0 in /usr/local/lib/python3.12/dist-packages (from pandas) (2.0.2)\n",
            "Requirement already satisfied: python-dateutil>=2.8.2 in /usr/local/lib/python3.12/dist-packages (from pandas) (2.9.0.post0)\n",
            "Requirement already satisfied: pytz>=2020.1 in /usr/local/lib/python3.12/dist-packages (from pandas) (2025.2)\n",
            "Requirement already satisfied: tzdata>=2022.7 in /usr/local/lib/python3.12/dist-packages (from pandas) (2025.2)\n",
            "Requirement already satisfied: contourpy>=1.0.1 in /usr/local/lib/python3.12/dist-packages (from matplotlib) (1.3.3)\n",
            "Requirement already satisfied: cycler>=0.10 in /usr/local/lib/python3.12/dist-packages (from matplotlib) (0.12.1)\n",
            "Requirement already satisfied: fonttools>=4.22.0 in /usr/local/lib/python3.12/dist-packages (from matplotlib) (4.60.1)\n",
            "Requirement already satisfied: kiwisolver>=1.3.1 in /usr/local/lib/python3.12/dist-packages (from matplotlib) (1.4.9)\n",
            "Requirement already satisfied: packaging>=20.0 in /usr/local/lib/python3.12/dist-packages (from matplotlib) (25.0)\n",
            "Requirement already satisfied: pillow>=8 in /usr/local/lib/python3.12/dist-packages (from matplotlib) (11.3.0)\n",
            "Requirement already satisfied: pyparsing>=2.3.1 in /usr/local/lib/python3.12/dist-packages (from matplotlib) (3.2.5)\n",
            "Requirement already satisfied: six>=1.5 in /usr/local/lib/python3.12/dist-packages (from python-dateutil>=2.8.2->pandas) (1.17.0)\n"
          ]
        }
      ],
      "source": [
        "!pip install pandas seaborn scikit-learn\n",
        "!pip install pandas matplotlib seaborn"
      ]
    },
    {
      "cell_type": "markdown",
      "metadata": {
        "id": "nqqcaamYu3rQ"
      },
      "source": [
        "# Домашнее задание про практике 2"
      ]
    },
    {
      "cell_type": "markdown",
      "metadata": {
        "id": "PmV7k0V0viI3"
      },
      "source": [
        "- Провести разведочный анализ EDA (описать полученный результат). Тут важно, влияет ли X[i] на Y (примеры в практике 2)\n",
        "- Описать полученный результат относительно анализа целевой перменной и зависимой (см. практика 2)\n",
        "- Подобороться с пропусками в данных (при наличии в датасете). Объяснить способ выборка борьбы с пропуском\n",
        "- Обучить модель линейной регресии на всей выборке X, y. Вывести метрики\n",
        "- Сделать train_test_split и обучить на обучающей выборке. Предсказать результат на обучающей и тестовой выборках. Вывести метрики, объяснить полученный результат"
      ]
    },
    {
      "cell_type": "code",
      "execution_count": null,
      "metadata": {
        "id": "-ByF7CbPu8tB"
      },
      "outputs": [],
      "source": [
        "import pandas as pd\n",
        "import matplotlib.pyplot as plt\n",
        "import seaborn as sns\n",
        "import numpy as np"
      ]
    },
    {
      "cell_type": "code",
      "execution_count": null,
      "metadata": {
        "id": "TE1kiTVbu7gI"
      },
      "outputs": [],
      "source": [
        "PATH_TO_FILE: str = '/student_depression_dataset.csv'\n",
        "df = pd.read_csv(PATH_TO_FILE)"
      ]
    },
    {
      "cell_type": "code",
      "execution_count": null,
      "metadata": {
        "id": "cHnS6uyPu_ss"
      },
      "outputs": [],
      "source": [
        "df.info()"
      ]
    },
    {
      "cell_type": "code",
      "execution_count": null,
      "metadata": {
        "id": "kYBmPfxlvBUs"
      },
      "outputs": [],
      "source": [
        "# преобразовать категориальные признаки в category\n",
        "df['Gender'] = df['Gender'].astype('category')\n",
        "df['City'] = df['City'].astype('category')\n",
        "df['Profession'] = df['Profession'].astype('category')\n",
        "df['Sleep Duration'] = df['Sleep Duration'].astype('category')\n",
        "df['Dietary Habits'] = df['Dietary Habits'].astype('category')\n",
        "df['Degree'] = df['Degree'].astype('category')\n",
        "df['Have you ever had suicidal thoughts ?'] = df['Have you ever had suicidal thoughts ?'].astype('category')\n",
        "df['Financial Stress'] = df['Financial Stress'].astype('category')\n",
        "df['Family History of Mental Illness'] = df['Family History of Mental Illness'].astype('category')\n"
      ]
    },
    {
      "cell_type": "code",
      "source": [
        "df.info()"
      ],
      "metadata": {
        "id": "AUL38-7G1ZNM"
      },
      "execution_count": null,
      "outputs": []
    },
    {
      "cell_type": "code",
      "execution_count": null,
      "metadata": {
        "id": "mNCCwK52vKpO"
      },
      "outputs": [],
      "source": [
        "# выбрать целевую переменную и разделить на X, y\n",
        "# целевая переменная - числовой непрерывный признак\n",
        "\n",
        "y = df[\"CGPA\"]\n",
        "X = df.drop([\"id\", \"CGPA\"], axis=1)"
      ]
    },
    {
      "cell_type": "code",
      "source": [
        "X.head(n=3)"
      ],
      "metadata": {
        "id": "oiSAOu8k4zmL"
      },
      "execution_count": null,
      "outputs": []
    },
    {
      "cell_type": "code",
      "source": [
        "y.head(n=3)"
      ],
      "metadata": {
        "id": "40oX2LR55K5P"
      },
      "execution_count": null,
      "outputs": []
    },
    {
      "cell_type": "markdown",
      "metadata": {
        "id": "eAjGz9j5wUlB"
      },
      "source": [
        "## EDA (разведочный анализ относительно целевой переменной)\n",
        "\n",
        "в этом же блоке побороться с проусками, важно сделать именно после разведочного анализа\n",
        "- Y и категориальные\n",
        "- Y и числовые\n",
        "- Описать все полученные результаты в своем блоке\n",
        "\n",
        "- Отобрать признаки для дальнейшего анализа, записать в ```best_features```"
      ]
    },
    {
      "cell_type": "code",
      "source": [],
      "metadata": {
        "id": "2azb-HMNj3Qf"
      },
      "execution_count": null,
      "outputs": []
    },
    {
      "cell_type": "code",
      "execution_count": null,
      "metadata": {
        "id": "ADEn3gA6wj0L"
      },
      "outputs": [],
      "source": [
        "cat_cols = ['Gender', 'Sleep Duration', 'Dietary Habits',\n",
        "            'Degree', 'Have you ever had suicidal thoughts ?',\n",
        "            'Financial Stress', 'Family History of Mental Illness', 'Depression', 'Academic Pressure', 'Work Pressure',\n",
        "            'Study Satisfaction', 'Job Satisfaction','City','Profession']\n",
        "\n",
        "plt.figure(figsize=(15, 20))\n",
        "\n",
        "for i, col in enumerate(cat_cols, 1):\n",
        "    plt.subplot(len(cat_cols)//2+1, 2, i)\n",
        "    sns.boxplot(x=col, y=\"CGPA\", data=df)\n",
        "    plt.title(f\"CGPA vs {col}\")\n",
        "    plt.xticks(rotation=45)\n",
        "\n",
        "plt.tight_layout()\n",
        "plt.show()\n"
      ]
    },
    {
      "cell_type": "code",
      "execution_count": null,
      "metadata": {
        "id": "l_fD-dVtwi0D"
      },
      "outputs": [],
      "source": [
        "num_cols = ['Age', 'Work/Study Hours']\n",
        "\n",
        "plt.figure(figsize=(15, 20))\n",
        "\n",
        "for i, col in enumerate(num_cols, 1):\n",
        "    plt.subplot(len(num_cols)//2+1, 2, i)\n",
        "    sns.scatterplot(x=col, y=\"CGPA\", data=df, alpha=0.5)\n",
        "    sns.regplot(x=col, y=\"CGPA\", data=df, scatter=False, color=\"red\")\n",
        "    plt.title(f\"CGPA vs {col}\")\n",
        "\n",
        "plt.tight_layout()\n",
        "plt.show()\n"
      ]
    },
    {
      "cell_type": "markdown",
      "source": [
        "Признаки, которые почти не влияют на CGPA (можно исключить):\n",
        "\n",
        "Age — возраст почти не влияет на успеваемость.\n",
        "\n",
        "Work/Study Hours — нет зависимости с CGPA.\n",
        "\n",
        "City — различий по городам почти нет.\n",
        "\n",
        "Profession — выбор профессии также не влияет.\n",
        "\n",
        "Полезные категориальные признаки:\n",
        "\n",
        "Gender — небольшие различия есть.\n",
        "\n",
        "Sleep Duration — заметна связь: слишком мало сна или слишком много → хуже успеваемость.\n",
        "\n",
        "Dietary Habits — питание влияет на CGPA (здоровое = выше баллы).\n",
        "\n",
        "Degree — разные направления обучения дают разные уровни CGPA.\n",
        "\n",
        "Have you ever had suicidal thoughts? — связь с более низким CGPA.\n",
        "\n",
        "Financial Stress — чем выше стресс, тем ниже CGPA.\n",
        "\n",
        "Family History of Mental Illness — заметна связь.\n",
        "\n",
        "Depression — депрессия сильно влияет.\n",
        "\n",
        "Полезные числовые признаки:\n",
        "\n",
        "Academic Pressure — сильное влияние.\n",
        "\n",
        "Work Pressure — влияет (при высоком давлении CGPA ниже).\n",
        "\n",
        "Study Satisfaction — чем выше удовлетворённость, тем выше CGPA.\n",
        "\n",
        "Job Satisfaction — тоже заметное влияние."
      ],
      "metadata": {
        "id": "YhhEMEY_-30O"
      }
    },
    {
      "cell_type": "code",
      "source": [
        "import numpy as np\n",
        "import matplotlib.pyplot as plt\n",
        "import seaborn as sns\n",
        "\n",
        "num_features = X.select_dtypes(include=\"number\").columns\n",
        "n = len(num_features)\n",
        "\n",
        "# корреляции с alcohol\n",
        "corrs = df[num_features].corrwith(df[\"CGPA\"])\n",
        "\n",
        "# палитра (от синего до красного)\n",
        "cmap = plt.cm.get_cmap(\"coolwarm\")\n",
        "\n",
        "# сетка графиков (2 в строку)\n",
        "fig, axes = plt.subplots(nrows=(n+1)//2, ncols=2, figsize=(10, n*3))\n",
        "axes = axes.flatten()\n",
        "\n",
        "for i, col in enumerate(num_features):\n",
        "    corr = corrs[col]\n",
        "    color = cmap((corr + 1) / 2)   # переводим [-1,1] → [0,1]\n",
        "\n",
        "    sns.scatterplot(ax=axes[i], data=df, x=col, y=\"CGPA\", color=color, alpha=0.6)\n",
        "    axes[i].set_title(f\"{col} (corr={corr:.2f})\")\n",
        "\n",
        "# удаляем пустые ячейки\n",
        "for j in range(i+1, len(axes)):\n",
        "    fig.delaxes(axes[j])\n",
        "\n",
        "plt.tight_layout()\n",
        "plt.show()\n"
      ],
      "metadata": {
        "id": "VM7MYWrbjlp1"
      },
      "execution_count": null,
      "outputs": []
    },
    {
      "cell_type": "code",
      "source": [
        "# заменить \"?\" в Financial Stress на NaN\n",
        "df['Financial Stress'] = df['Financial Stress'].replace(\"?\", np.nan)\n",
        "\n",
        "# заполнение медианой (т.к. шкала числовая)\n",
        "df['Financial Stress'] = df['Financial Stress'].astype(float)\n",
        "df['Financial Stress'] = df['Financial Stress'].fillna(df['Financial Stress'].median())\n"
      ],
      "metadata": {
        "id": "gG1VPFMi8Pd9"
      },
      "execution_count": null,
      "outputs": []
    },
    {
      "cell_type": "code",
      "execution_count": null,
      "metadata": {
        "id": "YJot4MMAz6oc"
      },
      "outputs": [],
      "source": [
        "categorial_features = ['Gender', 'Sleep Duration','Dietary Habits','Degree', 'Have you ever had suicidal thoughts ?','Financial Stress', 'Family History of Mental Illness', 'Depression','Academic Pressure','Study Satisfaction','Work Pressure','Job Satisfaction']\n",
        "numeric_features = ['Age','Work/Study Hours']\n",
        "best_features = categorial_features + numeric_features"
      ]
    },
    {
      "cell_type": "markdown",
      "metadata": {
        "id": "Vz4kuQwtwYxX"
      },
      "source": [
        "## Моделирование"
      ]
    },
    {
      "cell_type": "markdown",
      "metadata": {
        "id": "0Bw6wuHtm4F9"
      },
      "source": [
        "**Общая задача:**\n",
        "Сравнить несколько вариантов линейной регрессии на датасете (с предобработкой признаков: стандартизация числовых, OneHot/Label для категориальных).\n",
        "\n",
        "**предобработка**\n",
        "- Категориальные признаки преобразовать с помощью OneHotEncoder (если признак является типом **bool** по логике можно интерпретировать как (true, false) То можно LabelEncoder)\n",
        "- Числовые признаки записать в `X_scaled` и провести стандартизацию с помощью `StandardScaler`. Желательно без категориальных признаков\n",
        "\n",
        "\n",
        "---\n",
        "**Метрики**: (MAE, MAPE, R², MSE, RMSE)\n",
        "\n",
        "---\n",
        "\n",
        "**Модель 1.**\n",
        "\n",
        "- Использовать **все признаки (кроме y)**.\n",
        "- Обучить на **всей выборке** (без разделения).\n",
        "- Сделать предсказания на этой же выборке.\n",
        "- Вывести метрики и интерпретировать.\n",
        "- Построить график коэффициентов (model.coef\\_ vs X\\_scaled.columns) и интерпретировать.\n",
        "\n",
        "---\n",
        "\n",
        "**Модель 2.**\n",
        "\n",
        "- Использовать **все признаки**.\n",
        "- Сделать `train_test_split`.\n",
        "- Обучить на `X_train`, предсказать на `X_train` и `X_test`.\n",
        "- Вывести метрики для обучающей и тестовой выборки, интерпретировать.\n",
        "- Визуализировать коэффициенты и интерпретировать.\n",
        "\n",
        "---\n",
        "\n",
        "**Модель 3.**\n",
        "\n",
        "- Использовать только **best\\_features** (отобранные признаки).\n",
        "- Обучить на **всей выборке**.\n",
        "- Предсказать на всей выборке.\n",
        "- Вывести метрики качества и интерпретировать.\n",
        "- Визуализировать коэффициенты и интерпретировать.\n",
        "\n",
        "---\n",
        "\n",
        "**Модель 4.**\n",
        "\n",
        "- Использовать **best\\_features**.\n",
        "- Сделать `train_test_split`.\n",
        "- Обучить на `X_train`, предсказать на `X_train` и `X_test`.\n",
        "- Вывести метрики качества для обучающей и тестовой выборки, интерпретировать.\n",
        "- Визуализировать коэффициенты и интерпретировать.\n",
        "\n",
        "---\n",
        "\n",
        "P.S.\n",
        "- Важно не забывать о стандартизации и разделении категориальных признаков на отдельные олонки\n",
        "- Все примеры есть в практике 2\n",
        "\n",
        "\n",
        "P.S.S\n",
        "Старайтесь делать собственные предположения, ChatGPT задачу решит, но вы не добьетесь понимания полученных результатов\n",
        "\n",
        "---\n",
        "В результате должно получиться 4 модели\n",
        "\n",
        "- первые две на всех колонках (фичах)\n",
        "- последующие на отобранных фичах (колонках)"
      ]
    },
    {
      "cell_type": "markdown",
      "metadata": {
        "id": "xII6_LJFoJi_"
      },
      "source": [
        "## Ниже представлены подсказки, то что нужно использовать и как должно называться"
      ]
    },
    {
      "cell_type": "markdown",
      "metadata": {
        "id": "JuY4g6YozpKy"
      },
      "source": [
        "### Преобразование категориальных"
      ]
    },
    {
      "cell_type": "code",
      "source": [
        "from sklearn.preprocessing import LabelEncoder\n",
        "le = LabelEncoder()\n",
        "X[\"Gender\"] = le.fit_transform(df[\"Gender\"]) #Male=1, Female=0\n",
        "X[\"Have you ever had suicidal thoughts ?\"] = le.fit_transform(df[\"Have you ever had suicidal thoughts ?\"])\n",
        "X[\"Family History of Mental Illness\"] = le.fit_transform(df[\"Family History of Mental Illness\"])\n"
      ],
      "metadata": {
        "id": "wvkObJXiO-Yv"
      },
      "execution_count": null,
      "outputs": []
    },
    {
      "cell_type": "code",
      "source": [
        "# заменить \"?\" в Financial Stress на NaN\n",
        "X['Financial Stress'] = df['Financial Stress'].replace(\"?\", np.nan)\n",
        "\n",
        "# заполнение медианой (т.к. шкала числовая)\n",
        "X['Financial Stress'] = df['Financial Stress'].astype(float)\n",
        "X['Financial Stress'] = df['Financial Stress'].fillna(df['Financial Stress'].median())\n"
      ],
      "metadata": {
        "id": "hcmn9jSfWOwO"
      },
      "execution_count": null,
      "outputs": []
    },
    {
      "cell_type": "code",
      "source": [
        "from sklearn.preprocessing import OneHotEncoder\n",
        "# список категориальных признаков (из EDA)\n",
        "cat_cols = ['City','Profession','Sleep Duration', 'Dietary Habits','Degree']\n",
        "\n",
        "# инициализация OneHotEncoder\n",
        "encoder = OneHotEncoder(sparse_output=False, drop='first')\n",
        "# drop='first' → чтобы избежать дамми-ловушки (лишней колонки)\n",
        "\n",
        "# применяем энкодер\n",
        "\n",
        "encoded = encoder.fit_transform(X[cat_cols])\n",
        "# превращаем в DataFrame\n",
        "encoded_df = pd.DataFrame(\n",
        "    encoded,\n",
        "    columns=encoder.get_feature_names_out(cat_cols),\n",
        "    index=X.index\n",
        ")\n",
        "\n",
        "# удаляем старые категориальные признаки и добавляем новые\n",
        "X = X.drop(columns=cat_cols)\n",
        "X = pd.concat([X, encoded_df], axis=1)\n",
        "\n",
        "print(\"Размерность X после кодирования:\", X.shape)\n",
        "\n"
      ],
      "metadata": {
        "id": "vwjAXFDJRk4B"
      },
      "execution_count": null,
      "outputs": []
    },
    {
      "cell_type": "code",
      "execution_count": null,
      "metadata": {
        "id": "qgvhXjiPzIDH"
      },
      "outputs": [],
      "source": [
        "from sklearn.preprocessing import StandardScaler\n",
        "num_features = [X['Age'],X['Work/Study Hours']]\n",
        "scaler = StandardScaler()\n",
        "X_scaled = scaler.fit_transform(num_features) # попробовать избавиться от категориальных. То ест не засовывать такие признаки в стандартизацию\n",
        "\n",
        "num_features = [X_best['Age'],X_best['Work/Study Hours']]\n",
        "scaler = StandardScaler()\n",
        "X_scaled_best = scaler.fit_transform(num_features) # попробовать избавиться от категориальных. То ест не засовывать такие признаки в стандартизацию\n"
      ]
    },
    {
      "cell_type": "code",
      "source": [
        "X"
      ],
      "metadata": {
        "id": "qasm2Z-tWkQA"
      },
      "execution_count": null,
      "outputs": []
    },
    {
      "cell_type": "markdown",
      "metadata": {
        "id": "F1g1S9y3z19w"
      },
      "source": [
        "### Модель № 1"
      ]
    },
    {
      "cell_type": "markdown",
      "source": [
        "Использовать все признаки (кроме y).\n",
        "\n",
        "Обучить на всей выборке (без разделения).\n",
        "\n",
        "Сделать предсказания на этой же выборке.\n",
        "\n",
        "Вывести метрики и интерпретировать.\n",
        "\n",
        "Построить график коэффициентов (model.coef_ vs X_scaled.columns) и интерпретировать."
      ],
      "metadata": {
        "id": "yDCNuudkWycE"
      }
    },
    {
      "cell_type": "code",
      "execution_count": null,
      "metadata": {
        "id": "Pb5MFErPz4TA"
      },
      "outputs": [],
      "source": [
        "from sklearn.linear_model import LinearRegression\n",
        "\n",
        "model1 = LinearRegression()\n",
        "model1.fit(X, y)\n",
        "y_pred = model1.predict(X)\n",
        "y_pred\n",
        "# model.fit(X, y) - обучение\n",
        "# model.predict(X) - предсказание y\n",
        "# model.coef_ - коэфициенты фич (каждый коэф относится по индексу к своей фиче)\n",
        "\n"
      ]
    },
    {
      "cell_type": "code",
      "source": [
        "from sklearn.metrics import mean_absolute_error, mean_absolute_percentage_error, r2_score, mean_squared_error, root_mean_squared_error\n",
        "\n",
        "MAE = mean_absolute_error(y, y_pred)\n",
        "print('MAE %.3f' % MAE)\n",
        "\n",
        "MAPE = mean_absolute_percentage_error(y, y_pred)\n",
        "print('MAPE=%.3f, MAPE_as_percent=%.3f%s' % (MAPE, MAPE * 100, '%'))\n",
        "\n",
        "R2 = r2_score(y, y_pred)\n",
        "print('R2=%.3f' % R2)\n",
        "\n",
        "MSE = mean_squared_error(y, y_pred)\n",
        "print('MSE=%.3f' % MSE)\n",
        "\n",
        "RMSE = root_mean_squared_error(y, y_pred)\n",
        "print('RMSE=%.3f' % RMSE)"
      ],
      "metadata": {
        "id": "62JU7zP2bCXH"
      },
      "execution_count": null,
      "outputs": []
    },
    {
      "cell_type": "markdown",
      "source": [
        "### Интерпретация модели 1:\n",
        "\n",
        "MAE 1.251 - на столько модель ошибается, значение далеко от нуля это плохо\n",
        "\n",
        "MAPE=7542020057948.205, MAPE_as_percent=754202005794820.500% - в у есть ноль или значение близкое к нулю из-за этого числа такие большие. MAPE использовать нельзя.\n",
        "\n",
        "R2=0.026 - объясняет только 2,6 % разброса данных. Это почти случайное угадывание. Модель почти не лучше среднего.\n",
        "\n",
        "MSE=2.108 - есть отдельные довольно большие промахи, которые сильно влияют.\n",
        "\n",
        "RMSE=1.452 - есть несколько выбросов (очень плохих предсказаний), которые RMSE чувствует сильнее, чем MAE."
      ],
      "metadata": {
        "id": "M4kM7KYcfY9l"
      }
    },
    {
      "cell_type": "code",
      "source": [
        "coefs = model1.coef_\n",
        "coef_df = pd.DataFrame({\"feature\": X.columns, \"coef\": coefs})\n",
        "plt.figure(figsize=(20,5))\n",
        "plt.bar(coef_df[\"feature\"], coef_df[\"coef\"])\n",
        "plt.axhline(y=0, color='black', linestyle='--')  # линия 0\n",
        "plt.xticks(rotation=90, ha='right')\n",
        "plt.ylabel(\"Коэффициент (вес)\")\n",
        "plt.title(\"Влияние признаков на предсказание (model.coef_)\")\n",
        "plt.show()"
      ],
      "metadata": {
        "id": "aW_-9NP8i4tl"
      },
      "execution_count": null,
      "outputs": []
    },
    {
      "cell_type": "markdown",
      "metadata": {
        "id": "bX1R3bgbiZuS"
      },
      "source": [
        "### Модель № 2"
      ]
    },
    {
      "cell_type": "markdown",
      "source": [
        "Использовать все признаки.\n",
        "\n",
        "Сделать train_test_split.\n",
        "\n",
        "Обучить на X_train, предсказать на X_train и X_test.\n",
        "\n",
        "Вывести метрики для обучающей и тестовой выборки, интерпретировать.\n",
        "\n",
        "Визуализировать коэффициенты и интерпретировать.\n"
      ],
      "metadata": {
        "id": "LIKjiGBeiL8v"
      }
    },
    {
      "cell_type": "code",
      "execution_count": null,
      "metadata": {
        "id": "EjRhp2c4y9Sg"
      },
      "outputs": [],
      "source": [
        "from sklearn.model_selection import train_test_split\n",
        "\n",
        "X_train, X_test, y_train, y_test = train_test_split(X, y, test_size=0.2, random_state=42) # Рездляем данные как 80% - обучение, 20% на тест\n",
        "from sklearn.linear_model import LinearRegression\n",
        "\n",
        "model21 = LinearRegression()\n",
        "model21.fit(X_train, y_train)\n",
        "y_pred_test = model21.predict(X_test)\n",
        "print('X_test')\n",
        "print(y_pred_test)\n",
        "\n",
        "MAE = mean_absolute_error(y_test, y_pred_test)\n",
        "print('MAE %.3f' % MAE)\n",
        "\n",
        "MAPE = mean_absolute_percentage_error(y_test, y_pred_test)\n",
        "print('MAPE=%.3f, MAPE_as_percent=%.3f%s' % (MAPE, MAPE * 100, '%'))\n",
        "\n",
        "R2 = r2_score(y_test, y_pred_test)\n",
        "print('R2=%.3f' % R2)\n",
        "\n",
        "MSE = mean_squared_error(y_test, y_pred_test)\n",
        "print('MSE=%.3f' % MSE)\n",
        "\n",
        "RMSE = root_mean_squared_error(y_test, y_pred_test)\n",
        "print('RMSE=%.3f' % RMSE)"
      ]
    },
    {
      "cell_type": "code",
      "source": [
        "coefs = model21.coef_\n",
        "coef_df = pd.DataFrame({\"feature\": X.columns, \"coef\": coefs})\n",
        "plt.figure(figsize=(20,5))\n",
        "plt.bar(coef_df[\"feature\"], coef_df[\"coef\"])\n",
        "plt.axhline(y=0, color='black', linestyle='--')  # линия 0\n",
        "plt.xticks(rotation=90, ha='right')\n",
        "plt.ylabel(\"Коэффициент (вес)\")\n",
        "plt.title(\"Влияние признаков на предсказание (model.coef_)\")\n",
        "plt.show()"
      ],
      "metadata": {
        "id": "axx5IwHLtyA3"
      },
      "execution_count": null,
      "outputs": []
    },
    {
      "cell_type": "code",
      "source": [
        "from sklearn.model_selection import train_test_split\n",
        "\n",
        "X_train, X_test, y_train, y_test = train_test_split(X, y, test_size=0.2, random_state=42) # Рездляем данные как 80% - обучение, 20% на тест\n",
        "from sklearn.linear_model import LinearRegression\n",
        "\n",
        "model22 = LinearRegression()\n",
        "model22.fit(X_train, y_train)\n",
        "y_pred_train = model22.predict(X_train)\n",
        "print('X_train')\n",
        "print(y_pred_train)\n",
        "from sklearn.metrics import mean_absolute_error, mean_absolute_percentage_error, r2_score, mean_squared_error, root_mean_squared_error\n",
        "\n",
        "MAE = mean_absolute_error(y_train, y_pred_train)\n",
        "print('MAE %.3f' % MAE)\n",
        "\n",
        "MAPE = mean_absolute_percentage_error(y_train, y_pred_train)\n",
        "print('MAPE=%.3f, MAPE_as_percent=%.3f%s' % (MAPE, MAPE * 100, '%'))\n",
        "\n",
        "R2 = r2_score(y_train, y_pred_train)\n",
        "print('R2=%.3f' % R2)\n",
        "\n",
        "MSE = mean_squared_error(y_train, y_pred_train)\n",
        "print('MSE=%.3f' % MSE)\n",
        "\n",
        "RMSE = root_mean_squared_error(y_train, y_pred_train)\n",
        "print('RMSE=%.3f' % RMSE)"
      ],
      "metadata": {
        "id": "qXEyzyyIo8rn"
      },
      "execution_count": null,
      "outputs": []
    },
    {
      "cell_type": "code",
      "source": [
        "coefs = model22.coef_\n",
        "coef_df = pd.DataFrame({\"feature\": X.columns, \"coef\": coefs})\n",
        "plt.figure(figsize=(20,5))\n",
        "plt.bar(coef_df[\"feature\"], coef_df[\"coef\"])\n",
        "plt.axhline(y=0, color='black', linestyle='--')  # линия 0\n",
        "plt.xticks(rotation=90, ha='right')\n",
        "plt.ylabel(\"Коэффициент (вес)\")\n",
        "plt.title(\"Влияние признаков на предсказание (model.coef_)\")\n",
        "plt.show()"
      ],
      "metadata": {
        "id": "71m68_j0t3vV"
      },
      "execution_count": null,
      "outputs": []
    },
    {
      "cell_type": "markdown",
      "source": [
        "### Интерпретация модели 2:\n",
        "X_train\n",
        "\n",
        "[7.62888596 7.53140149 7.74952698 ... 7.76853114 7.31789823 7.50494237]\n",
        "\n",
        "MAE 1.251\n",
        "\n",
        "MAPE=9407650262004.391, MAPE_as_percent=940765026200439.000%\n",
        "\n",
        "R2=0.027\n",
        "\n",
        "MSE=2.110\n",
        "\n",
        "RMSE=1.453\n",
        "\n",
        "X_test\n",
        "\n",
        "[7.31933646 7.69222575 7.41620152 ... 7.70239506 7.75562676 7.8892299 ]\n",
        "\n",
        "MAE 1.254\n",
        "\n",
        "MAPE=0.173, MAPE_as_percent=17.332%\n",
        "\n",
        "R2=0.014\n",
        "\n",
        "MSE=2.110\n",
        "\n",
        "RMSE=1.453\n",
        "\n",
        "Вывод:\n",
        "\n",
        "MAE почти одно и тоже у двух 2 моделей и у 1 модели\n",
        "\n",
        "MAPE у X_train невоззможно определит, а у X_test показал хороший результат\n",
        "\n",
        "R2 ещё больше прилизилось к среднему (предсказание на тестовых данных проявило себя хуже)\n",
        "\n",
        "MSE незначительно стало хуже\n",
        "\n",
        "RMSE незначительно стало хуже\n",
        "\n",
        "Графики примерно одинаковые (сильное влияние имеют отдельные города и профессии)\n",
        "\n",
        "\n",
        "\n"
      ],
      "metadata": {
        "id": "usBoCMwCqXJD"
      }
    },
    {
      "cell_type": "markdown",
      "metadata": {
        "id": "35v6C2VXuzLq"
      },
      "source": [
        "### Модель № 3"
      ]
    },
    {
      "cell_type": "markdown",
      "source": [
        "Использовать только best_features (отобранные признаки).\n",
        "\n",
        "Обучить на всей выборке.\n",
        "\n",
        "Предсказать на всей выборке.\n",
        "\n",
        "Вывести метрики качества и интерпретировать.\n",
        "\n",
        "Визуализировать коэффициенты и интерпретировать."
      ],
      "metadata": {
        "id": "kQghBHvPu2AF"
      }
    },
    {
      "cell_type": "code",
      "source": [
        "from sklearn.linear_model import LinearRegression\n",
        "X_best = df\n",
        "X_best= df.drop([\"City\", \"CGPA\",\"Profession\",\"Degree\"], axis=1)\n",
        "from sklearn.preprocessing import LabelEncoder\n",
        "le = LabelEncoder()\n",
        "X_best[\"Gender\"] = le.fit_transform(df[\"Gender\"]) #Male=1, Female=0\n",
        "X_best[\"Have you ever had suicidal thoughts ?\"] = le.fit_transform(df[\"Have you ever had suicidal thoughts ?\"])\n",
        "X_best[\"Family History of Mental Illness\"] = le.fit_transform(df[\"Family History of Mental Illness\"])\n",
        "from sklearn.preprocessing import OneHotEncoder\n",
        "cat_cols = ['Sleep Duration', 'Dietary Habits']\n",
        "encoder = OneHotEncoder(sparse_output=False, drop='first')\n",
        "encoded = encoder.fit_transform(X_best[cat_cols])\n",
        "encoded_df = pd.DataFrame(\n",
        "    encoded,\n",
        "    columns=encoder.get_feature_names_out(cat_cols),\n",
        "    index=X_best.index\n",
        ")\n",
        "X_best = X_best.drop(columns=cat_cols)\n",
        "X_best = pd.concat([X_best, encoded_df], axis=1)\n",
        "\n",
        "\n",
        "model3 = LinearRegression()\n",
        "model3.fit(X_best, y)\n",
        "y_pred3 = model3.predict(X_best)\n",
        "print(y_pred3)\n",
        "from sklearn.metrics import mean_absolute_error, mean_absolute_percentage_error, r2_score, mean_squared_error, root_mean_squared_error\n",
        "\n",
        "MAE = mean_absolute_error(y, y_pred3)\n",
        "print('MAE %.3f' % MAE)\n",
        "\n",
        "MAPE = mean_absolute_percentage_error(y, y_pred3)\n",
        "print('MAPE=%.3f, MAPE_as_percent=%.3f%s' % (MAPE, MAPE * 100, '%'))\n",
        "\n",
        "R2 = r2_score(y, y_pred3)\n",
        "print('R2=%.3f' % R2)\n",
        "\n",
        "MSE = mean_squared_error(y, y_pred3)\n",
        "print('MSE=%.3f' % MSE)\n",
        "\n",
        "RMSE = root_mean_squared_error(y, y_pred3)\n",
        "print('RMSE=%.3f' % RMSE)"
      ],
      "metadata": {
        "id": "wiKdq5kGif9Q"
      },
      "execution_count": null,
      "outputs": []
    },
    {
      "cell_type": "code",
      "execution_count": null,
      "metadata": {
        "id": "DaRSeDT4zoqc"
      },
      "outputs": [],
      "source": [
        "coefs = model3.coef_\n",
        "coef_df = pd.DataFrame({\"feature\": X_best.columns, \"coef\": coefs})\n",
        "plt.figure(figsize=(20,5))\n",
        "plt.bar(coef_df[\"feature\"], coef_df[\"coef\"])\n",
        "plt.axhline(y=0, color='black', linestyle='--')  # линия 0\n",
        "plt.xticks(rotation=90, ha='right')\n",
        "plt.ylabel(\"Коэффициент (вес)\")\n",
        "plt.title(\"Влияние признаков на предсказание (model.coef_)\")\n",
        "plt.show()"
      ]
    },
    {
      "cell_type": "markdown",
      "source": [
        "### Интерпретация модели 3:\n",
        "\n",
        "MAE увеличилось\n",
        "\n",
        "MAPE  невоззможно определить\n",
        "\n",
        "R2 почти среднее\n",
        "\n",
        "MSE незначительно стало хуже\n",
        "\n",
        "RMSE незначительно стало хуже\n",
        "\n",
        "По графику отрицательное влияние рабочего давления и оценки  из-за этих данных случились сильные выбросы"
      ],
      "metadata": {
        "id": "_oS4YT3u3qPb"
      }
    },
    {
      "cell_type": "markdown",
      "metadata": {
        "id": "AUpNXCyr5SSm"
      },
      "source": [
        "### Модель № 4"
      ]
    },
    {
      "cell_type": "markdown",
      "source": [
        "Использовать best_features.\n",
        "\n",
        "Сделать train_test_split.\n",
        "\n",
        "Обучить на X_train, предсказать на X_train и X_test.\n",
        "\n",
        "Вывести метрики качества для обучающей и тестовой выборки, интерпретировать.\n",
        "\n",
        "Визуализировать коэффициенты и интерпретировать.\n"
      ],
      "metadata": {
        "id": "3bAdXz805ks4"
      }
    },
    {
      "cell_type": "code",
      "execution_count": null,
      "metadata": {
        "id": "IMxtXnJzuzx9"
      },
      "outputs": [],
      "source": [
        "from sklearn.linear_model import LinearRegression\n",
        "X_best = df\n",
        "X_best= df.drop([\"City\", \"CGPA\",\"Profession\",\"Degree\"], axis=1)\n",
        "from sklearn.preprocessing import LabelEncoder\n",
        "le = LabelEncoder()\n",
        "X_best[\"Gender\"] = le.fit_transform(df[\"Gender\"]) #Male=1, Female=0\n",
        "X_best[\"Have you ever had suicidal thoughts ?\"] = le.fit_transform(df[\"Have you ever had suicidal thoughts ?\"])\n",
        "X_best[\"Family History of Mental Illness\"] = le.fit_transform(df[\"Family History of Mental Illness\"])\n",
        "from sklearn.preprocessing import OneHotEncoder\n",
        "cat_cols = ['Sleep Duration', 'Dietary Habits']\n",
        "encoder = OneHotEncoder(sparse_output=False, drop='first')\n",
        "encoded = encoder.fit_transform(X_best[cat_cols])\n",
        "encoded_df = pd.DataFrame(\n",
        "    encoded,\n",
        "    columns=encoder.get_feature_names_out(cat_cols),\n",
        "    index=X_best.index\n",
        ")\n",
        "X_best = X_best.drop(columns=cat_cols)\n",
        "X_best = pd.concat([X_best, encoded_df], axis=1)\n",
        "\n",
        "from sklearn.model_selection import train_test_split\n",
        "\n",
        "X_train_best, X_test_best, y_train_best, y_test_best = train_test_split(X_best, y, test_size=0.2, random_state=42) # Рездляем данные как 80% - обучение, 20% на тест\n",
        "from sklearn.linear_model import LinearRegression\n",
        "\n",
        "model41 = LinearRegression()\n",
        "model41.fit(X_train_best, y_train_best)\n",
        "y_pred_train = model41.predict(X_train_best)\n",
        "print('X_train_best')\n",
        "print(y_pred_train)\n",
        "\n",
        "from sklearn.metrics import mean_absolute_error, mean_absolute_percentage_error, r2_score, mean_squared_error, root_mean_squared_error\n",
        "\n",
        "MAE = mean_absolute_error(y_train_best, y_pred_train)\n",
        "print('MAE %.3f' % MAE)\n",
        "\n",
        "MAPE = mean_absolute_percentage_error(y_train_best, y_pred_train)\n",
        "print('MAPE=%.3f, MAPE_as_percent=%.3f%s' % (MAPE, MAPE * 100, '%'))\n",
        "\n",
        "R2 = r2_score(y_train_best, y_pred_train)\n",
        "print('R2=%.3f' % R2)\n",
        "\n",
        "MSE = mean_squared_error(y_train_best, y_pred_train)\n",
        "print('MSE=%.3f' % MSE)\n",
        "\n",
        "RMSE = root_mean_squared_error(y_train_best, y_pred_train)\n",
        "print('RMSE=%.3f' % RMSE)\n",
        "\n",
        "model42 = LinearRegression()\n",
        "model42.fit(X_train_best, y_train_best)\n",
        "y_pred_test = model42.predict(X_test_best)\n",
        "print('X_test_best')\n",
        "print(y_pred_test)\n",
        "\n",
        "from sklearn.metrics import mean_absolute_error, mean_absolute_percentage_error, r2_score, mean_squared_error, root_mean_squared_error\n",
        "\n",
        "MAE = mean_absolute_error(y_test_best, y_pred_test)\n",
        "print('MAE %.3f' % MAE)\n",
        "\n",
        "MAPE = mean_absolute_percentage_error(y_test_best, y_pred_test)\n",
        "print('MAPE=%.3f, MAPE_as_percent=%.3f%s' % (MAPE, MAPE * 100, '%'))\n",
        "\n",
        "R2 = r2_score(y_test_best, y_pred_test)\n",
        "print('R2=%.3f' % R2)\n",
        "\n",
        "MSE = mean_squared_error(y_test_best, y_pred_test)\n",
        "print('MSE=%.3f' % MSE)\n",
        "\n",
        "RMSE = root_mean_squared_error(y_test_best, y_pred_test)\n",
        "print('RMSE=%.3f' % RMSE)\n",
        "\n",
        "\n",
        "\n"
      ]
    },
    {
      "cell_type": "code",
      "source": [
        "coefs = model41.coef_\n",
        "coef_df = pd.DataFrame({\"feature\": X_best.columns, \"coef\": coefs})\n",
        "plt.figure(figsize=(20,5))\n",
        "plt.bar(coef_df[\"feature\"], coef_df[\"coef\"])\n",
        "plt.axhline(y=0, color='black', linestyle='--')  # линия 0\n",
        "plt.xticks(rotation=90, ha='right')\n",
        "plt.ylabel(\"Коэффициент (вес)\")\n",
        "plt.title(\"Влияние признаков на предсказание (model.coef_)\")\n",
        "plt.show()"
      ],
      "metadata": {
        "id": "t3LelZjX7svm"
      },
      "execution_count": null,
      "outputs": []
    },
    {
      "cell_type": "code",
      "source": [
        "coefs = model42.coef_\n",
        "coef_df = pd.DataFrame({\"feature\": X_best.columns, \"coef\": coefs})\n",
        "plt.figure(figsize=(20,5))\n",
        "plt.bar(coef_df[\"feature\"], coef_df[\"coef\"])\n",
        "plt.axhline(y=0, color='black', linestyle='--')  # линия 0\n",
        "plt.xticks(rotation=90, ha='right')\n",
        "plt.ylabel(\"Коэффициент (вес)\")\n",
        "plt.title(\"Влияние признаков на предсказание (model.coef_)\")\n",
        "plt.show()"
      ],
      "metadata": {
        "id": "_vKqZtiN7ypk"
      },
      "execution_count": null,
      "outputs": []
    },
    {
      "cell_type": "markdown",
      "source": [
        "### Интерпретация модели 4:\n",
        "Предсказания модели не улучшились все метрики примерно остались на том же уровне\n",
        "\n",
        "С графиком такая же ситуация"
      ],
      "metadata": {
        "id": "CJkhsvY274dQ"
      }
    },
    {
      "cell_type": "markdown",
      "source": [
        "## Вывод\n",
        "\n",
        "Был проведён предварительный анализ данных и обучены четыре модели линейной регрессии для прогнозирования успеваемости. Однако результаты оценки показали неудовлетворительные значения метрик: ни одна из моделей не продемонстрировала приемлемого качества. Таким образом, на основе имеющихся данных предсказать успеваемость не представляется возможным.\n",
        "\n"
      ],
      "metadata": {
        "id": "pwGewVr-8feS"
      }
    }
  ],
  "metadata": {
    "colab": {
      "provenance": [],
      "include_colab_link": true
    },
    "kernelspec": {
      "display_name": "Python 3",
      "name": "python3"
    },
    "language_info": {
      "name": "python"
    }
  },
  "nbformat": 4,
  "nbformat_minor": 0
}